{
 "cells": [
  {
   "cell_type": "code",
   "execution_count": 1,
   "metadata": {},
   "outputs": [],
   "source": [
    "import time\n",
    "\n",
    "import torch\n",
    "from sklearn.metrics import classification_report\n",
    "from tqdm.notebook import tqdm\n",
    "\n",
    "from utils import *\n",
    "from models.CreditcardDataset import CreditcardDataset\n",
    "from models.OversamplingDataset import OversamplingDataset\n",
    "from models.Autoencoder import Autoencoder\n",
    "from models.Classifier import Classifier\n",
    "from models.HiddenReprClassifier import HiddenReprClassifier\n",
    "\n",
    "DATA_PATH = \"./data/\""
   ]
  },
  {
   "cell_type": "code",
   "execution_count": 2,
   "metadata": {
    "pycharm": {
     "name": "#%%\n"
    }
   },
   "outputs": [
    {
     "name": "stdout",
     "output_type": "stream",
     "text": [
      "cuda\n"
     ]
    }
   ],
   "source": [
    "BATCH_SIZE = 32\n",
    "\n",
    "LEARNING_RATE_AUTOENC = 1e-3\n",
    "LEARNING_RATE_CLASSIFIER = 1e-4\n",
    "\n",
    "AUTOENC_EPOCHS = 20\n",
    "CLASSIFIER_EPOCHS = 25\n",
    "\n",
    "DEVICE = \"cuda\" if torch.cuda.is_available() else \"cpu\"\n",
    "print(DEVICE)"
   ]
  },
  {
   "cell_type": "code",
   "execution_count": 3,
   "metadata": {
    "pycharm": {
     "name": "#%%\n"
    }
   },
   "outputs": [
    {
     "name": "stdout",
     "output_type": "stream",
     "text": [
      "(186904, 29)\n",
      "(372934, 29)\n"
     ]
    }
   ],
   "source": [
    "from imblearn.over_sampling import SMOTE\n",
    "from pyloras import LORAS\n",
    "\n",
    "oversampler = LORAS(random_state = 42, n_affine=30, n_neighbors=30)\n",
    "#oversampler = SMOTE(random_state=42)\n",
    "\n",
    "train_dataset = OversamplingDataset(DATA_PATH + 'train.parquet', oversampler)\n",
    "valid_dataset = CreditcardDataset(DATA_PATH + 'valid.parquet')\n",
    "test_dataset = CreditcardDataset(DATA_PATH + 'test.parquet')"
   ]
  },
  {
   "cell_type": "code",
   "execution_count": 4,
   "metadata": {
    "pycharm": {
     "name": "#%%\n"
    }
   },
   "outputs": [],
   "source": [
    "autoenc_model = Autoencoder()\n",
    "autoenc_model = autoenc_model.cuda()\n",
    "autoenc_optim = torch.optim.Adam(autoenc_model.parameters(), lr=LEARNING_RATE_AUTOENC)"
   ]
  },
  {
   "cell_type": "code",
   "execution_count": 5,
   "metadata": {
    "pycharm": {
     "name": "#%%\n"
    }
   },
   "outputs": [
    {
     "name": "stdout",
     "output_type": "stream",
     "text": [
      "\n",
      " Start of epoch 1/20\n"
     ]
    },
    {
     "data": {
      "application/vnd.jupyter.widget-view+json": {
       "model_id": "38b9846996c64fa593de5f46649215ab",
       "version_major": 2,
       "version_minor": 0
      },
      "text/plain": [
       "  0%|          | 0/11655 [00:00<?, ?it/s]"
      ]
     },
     "metadata": {},
     "output_type": "display_data"
    },
    {
     "data": {
      "application/vnd.jupyter.widget-view+json": {
       "model_id": "89348fba397d45a2b3ff7d468e2ffa4f",
       "version_major": 2,
       "version_minor": 0
      },
      "text/plain": [
       "  0%|          | 0/26701 [00:00<?, ?it/s]"
      ]
     },
     "metadata": {},
     "output_type": "display_data"
    },
    {
     "name": "stdout",
     "output_type": "stream",
     "text": [
      "\n",
      " Epoch 1 complete in 59.65, train loss = 0.460721644626212, valid_loss = 0.36446052093224435\n",
      "\n",
      " Start of epoch 2/20\n"
     ]
    },
    {
     "data": {
      "application/vnd.jupyter.widget-view+json": {
       "model_id": "e46acaa42d08419da57db2c6ed92531f",
       "version_major": 2,
       "version_minor": 0
      },
      "text/plain": [
       "  0%|          | 0/11655 [00:00<?, ?it/s]"
      ]
     },
     "metadata": {},
     "output_type": "display_data"
    },
    {
     "data": {
      "application/vnd.jupyter.widget-view+json": {
       "model_id": "ad944e1335894e49905d84dc66ba569a",
       "version_major": 2,
       "version_minor": 0
      },
      "text/plain": [
       "  0%|          | 0/26701 [00:00<?, ?it/s]"
      ]
     },
     "metadata": {},
     "output_type": "display_data"
    },
    {
     "name": "stdout",
     "output_type": "stream",
     "text": [
      "\n",
      " Epoch 2 complete in 59.45, train loss = 0.24908675704581296, valid_loss = 0.2870736166289034\n",
      "\n",
      " Start of epoch 3/20\n"
     ]
    },
    {
     "data": {
      "application/vnd.jupyter.widget-view+json": {
       "model_id": "f8f2dc5a510f4a9ab0cde787ab9f9c21",
       "version_major": 2,
       "version_minor": 0
      },
      "text/plain": [
       "  0%|          | 0/11655 [00:00<?, ?it/s]"
      ]
     },
     "metadata": {},
     "output_type": "display_data"
    },
    {
     "data": {
      "application/vnd.jupyter.widget-view+json": {
       "model_id": "3d83d026b92242b4b65b5b8b63503c98",
       "version_major": 2,
       "version_minor": 0
      },
      "text/plain": [
       "  0%|          | 0/26701 [00:00<?, ?it/s]"
      ]
     },
     "metadata": {},
     "output_type": "display_data"
    },
    {
     "name": "stdout",
     "output_type": "stream",
     "text": [
      "\n",
      " Epoch 3 complete in 59.37, train loss = 0.22083869733072975, valid_loss = 0.25512237402253907\n",
      "\n",
      " Start of epoch 4/20\n"
     ]
    },
    {
     "data": {
      "application/vnd.jupyter.widget-view+json": {
       "model_id": "d375e83296114b66948eadd8020c71c8",
       "version_major": 2,
       "version_minor": 0
      },
      "text/plain": [
       "  0%|          | 0/11655 [00:00<?, ?it/s]"
      ]
     },
     "metadata": {},
     "output_type": "display_data"
    },
    {
     "data": {
      "application/vnd.jupyter.widget-view+json": {
       "model_id": "b46deb1ef7a7491f80503f86a5ea7736",
       "version_major": 2,
       "version_minor": 0
      },
      "text/plain": [
       "  0%|          | 0/26701 [00:00<?, ?it/s]"
      ]
     },
     "metadata": {},
     "output_type": "display_data"
    },
    {
     "name": "stdout",
     "output_type": "stream",
     "text": [
      "\n",
      " Epoch 4 complete in 61.16, train loss = 0.20519953538155872, valid_loss = 0.2373710259047229\n",
      "\n",
      " Start of epoch 5/20\n"
     ]
    },
    {
     "data": {
      "application/vnd.jupyter.widget-view+json": {
       "model_id": "ffa77c32638f4b51a012d19c7d05f97a",
       "version_major": 2,
       "version_minor": 0
      },
      "text/plain": [
       "  0%|          | 0/11655 [00:00<?, ?it/s]"
      ]
     },
     "metadata": {},
     "output_type": "display_data"
    },
    {
     "data": {
      "application/vnd.jupyter.widget-view+json": {
       "model_id": "6de5fc6d9a07448f80eeb007dd793bc0",
       "version_major": 2,
       "version_minor": 0
      },
      "text/plain": [
       "  0%|          | 0/26701 [00:00<?, ?it/s]"
      ]
     },
     "metadata": {},
     "output_type": "display_data"
    },
    {
     "name": "stdout",
     "output_type": "stream",
     "text": [
      "\n",
      " Epoch 5 complete in 60.82, train loss = 0.19668938767137778, valid_loss = 0.23013897279143436\n",
      "\n",
      " Start of epoch 6/20\n"
     ]
    },
    {
     "data": {
      "application/vnd.jupyter.widget-view+json": {
       "model_id": "d3364667d2764f4c86dfd2784df2b023",
       "version_major": 2,
       "version_minor": 0
      },
      "text/plain": [
       "  0%|          | 0/11655 [00:00<?, ?it/s]"
      ]
     },
     "metadata": {},
     "output_type": "display_data"
    },
    {
     "data": {
      "application/vnd.jupyter.widget-view+json": {
       "model_id": "7ae9a28407bc4322a667d84f68762bb5",
       "version_major": 2,
       "version_minor": 0
      },
      "text/plain": [
       "  0%|          | 0/26701 [00:00<?, ?it/s]"
      ]
     },
     "metadata": {},
     "output_type": "display_data"
    },
    {
     "name": "stdout",
     "output_type": "stream",
     "text": [
      "\n",
      " Epoch 6 complete in 60.43, train loss = 0.19061977436285785, valid_loss = 0.21850059578734943\n",
      "\n",
      " Start of epoch 7/20\n"
     ]
    },
    {
     "data": {
      "application/vnd.jupyter.widget-view+json": {
       "model_id": "7a7a80c6adce49598b7161a539fcceff",
       "version_major": 2,
       "version_minor": 0
      },
      "text/plain": [
       "  0%|          | 0/11655 [00:00<?, ?it/s]"
      ]
     },
     "metadata": {},
     "output_type": "display_data"
    },
    {
     "data": {
      "application/vnd.jupyter.widget-view+json": {
       "model_id": "2e1934960fa24f30b7edc4836cc91447",
       "version_major": 2,
       "version_minor": 0
      },
      "text/plain": [
       "  0%|          | 0/26701 [00:00<?, ?it/s]"
      ]
     },
     "metadata": {},
     "output_type": "display_data"
    },
    {
     "name": "stdout",
     "output_type": "stream",
     "text": [
      "\n",
      " Epoch 7 complete in 60.54, train loss = 0.18434952444999017, valid_loss = 0.2130836047758695\n",
      "\n",
      " Start of epoch 8/20\n"
     ]
    },
    {
     "data": {
      "application/vnd.jupyter.widget-view+json": {
       "model_id": "35eaea4050964816b41216170cc4500c",
       "version_major": 2,
       "version_minor": 0
      },
      "text/plain": [
       "  0%|          | 0/11655 [00:00<?, ?it/s]"
      ]
     },
     "metadata": {},
     "output_type": "display_data"
    },
    {
     "data": {
      "application/vnd.jupyter.widget-view+json": {
       "model_id": "7563562fef974787afb4e635980f3a90",
       "version_major": 2,
       "version_minor": 0
      },
      "text/plain": [
       "  0%|          | 0/26701 [00:00<?, ?it/s]"
      ]
     },
     "metadata": {},
     "output_type": "display_data"
    },
    {
     "name": "stdout",
     "output_type": "stream",
     "text": [
      "\n",
      " Epoch 8 complete in 60.52, train loss = 0.18130614525550223, valid_loss = 0.20646083963115697\n",
      "\n",
      " Start of epoch 9/20\n"
     ]
    },
    {
     "data": {
      "application/vnd.jupyter.widget-view+json": {
       "model_id": "435c960183e94fe090e091b380a32f3b",
       "version_major": 2,
       "version_minor": 0
      },
      "text/plain": [
       "  0%|          | 0/11655 [00:00<?, ?it/s]"
      ]
     },
     "metadata": {},
     "output_type": "display_data"
    },
    {
     "data": {
      "application/vnd.jupyter.widget-view+json": {
       "model_id": "89187cc8b0004fd9bb7d61126998848b",
       "version_major": 2,
       "version_minor": 0
      },
      "text/plain": [
       "  0%|          | 0/26701 [00:00<?, ?it/s]"
      ]
     },
     "metadata": {},
     "output_type": "display_data"
    },
    {
     "name": "stdout",
     "output_type": "stream",
     "text": [
      "\n",
      " Epoch 9 complete in 61.52, train loss = 0.17945010621613672, valid_loss = 0.20456266163414333\n",
      "\n",
      " Start of epoch 10/20\n"
     ]
    },
    {
     "data": {
      "application/vnd.jupyter.widget-view+json": {
       "model_id": "65b8969d561d41eb93978072143a224f",
       "version_major": 2,
       "version_minor": 0
      },
      "text/plain": [
       "  0%|          | 0/11655 [00:00<?, ?it/s]"
      ]
     },
     "metadata": {},
     "output_type": "display_data"
    },
    {
     "data": {
      "application/vnd.jupyter.widget-view+json": {
       "model_id": "89ad2df671cb4b61aa9e6657e9a7dcdc",
       "version_major": 2,
       "version_minor": 0
      },
      "text/plain": [
       "  0%|          | 0/26701 [00:00<?, ?it/s]"
      ]
     },
     "metadata": {},
     "output_type": "display_data"
    },
    {
     "name": "stdout",
     "output_type": "stream",
     "text": [
      "\n",
      " Epoch 10 complete in 63.27, train loss = 0.17814190989461695, valid_loss = 0.20291010587433675\n",
      "\n",
      " Start of epoch 11/20\n"
     ]
    },
    {
     "data": {
      "application/vnd.jupyter.widget-view+json": {
       "model_id": "4274ed557fb24322985230dac5f26992",
       "version_major": 2,
       "version_minor": 0
      },
      "text/plain": [
       "  0%|          | 0/11655 [00:00<?, ?it/s]"
      ]
     },
     "metadata": {},
     "output_type": "display_data"
    },
    {
     "data": {
      "application/vnd.jupyter.widget-view+json": {
       "model_id": "641ac9d2e7a54d04ad49cd22f9133f5e",
       "version_major": 2,
       "version_minor": 0
      },
      "text/plain": [
       "  0%|          | 0/26701 [00:00<?, ?it/s]"
      ]
     },
     "metadata": {},
     "output_type": "display_data"
    },
    {
     "name": "stdout",
     "output_type": "stream",
     "text": [
      "\n",
      " Epoch 11 complete in 61.86, train loss = 0.17710939210047286, valid_loss = 0.20226577985001426\n",
      "\n",
      " Start of epoch 12/20\n"
     ]
    },
    {
     "data": {
      "application/vnd.jupyter.widget-view+json": {
       "model_id": "f9133c270e434c37a4a888f46f17ff81",
       "version_major": 2,
       "version_minor": 0
      },
      "text/plain": [
       "  0%|          | 0/11655 [00:00<?, ?it/s]"
      ]
     },
     "metadata": {},
     "output_type": "display_data"
    },
    {
     "data": {
      "application/vnd.jupyter.widget-view+json": {
       "model_id": "c2bb9f5c48524056bad86f4f8e24e861",
       "version_major": 2,
       "version_minor": 0
      },
      "text/plain": [
       "  0%|          | 0/26701 [00:00<?, ?it/s]"
      ]
     },
     "metadata": {},
     "output_type": "display_data"
    },
    {
     "name": "stdout",
     "output_type": "stream",
     "text": [
      "\n",
      " Epoch 12 complete in 62.46, train loss = 0.17595124143622864, valid_loss = 0.19783900957024408\n",
      "\n",
      " Start of epoch 13/20\n"
     ]
    },
    {
     "data": {
      "application/vnd.jupyter.widget-view+json": {
       "model_id": "c5202832ad8f4690a2609793006929c8",
       "version_major": 2,
       "version_minor": 0
      },
      "text/plain": [
       "  0%|          | 0/11655 [00:00<?, ?it/s]"
      ]
     },
     "metadata": {},
     "output_type": "display_data"
    },
    {
     "data": {
      "application/vnd.jupyter.widget-view+json": {
       "model_id": "ec6fae0aa037497096af6c920f8cc81d",
       "version_major": 2,
       "version_minor": 0
      },
      "text/plain": [
       "  0%|          | 0/26701 [00:00<?, ?it/s]"
      ]
     },
     "metadata": {},
     "output_type": "display_data"
    },
    {
     "name": "stdout",
     "output_type": "stream",
     "text": [
      "\n",
      " Epoch 13 complete in 60.66, train loss = 0.17504331461545072, valid_loss = 0.194942542114147\n",
      "\n",
      " Start of epoch 14/20\n"
     ]
    },
    {
     "data": {
      "application/vnd.jupyter.widget-view+json": {
       "model_id": "2b5728d4a9994887b084b27a2a068395",
       "version_major": 2,
       "version_minor": 0
      },
      "text/plain": [
       "  0%|          | 0/11655 [00:00<?, ?it/s]"
      ]
     },
     "metadata": {},
     "output_type": "display_data"
    },
    {
     "data": {
      "application/vnd.jupyter.widget-view+json": {
       "model_id": "d5a6bb0bbb4e4eec996ff3e81eee184c",
       "version_major": 2,
       "version_minor": 0
      },
      "text/plain": [
       "  0%|          | 0/26701 [00:00<?, ?it/s]"
      ]
     },
     "metadata": {},
     "output_type": "display_data"
    },
    {
     "name": "stdout",
     "output_type": "stream",
     "text": [
      "\n",
      " Epoch 14 complete in 60.27, train loss = 0.1735656495739441, valid_loss = 0.19600888854208345\n",
      "\n",
      " Start of epoch 15/20\n"
     ]
    },
    {
     "data": {
      "application/vnd.jupyter.widget-view+json": {
       "model_id": "4ad638279d7f41629e942d03b72afcf4",
       "version_major": 2,
       "version_minor": 0
      },
      "text/plain": [
       "  0%|          | 0/11655 [00:00<?, ?it/s]"
      ]
     },
     "metadata": {},
     "output_type": "display_data"
    },
    {
     "data": {
      "application/vnd.jupyter.widget-view+json": {
       "model_id": "99fd8de451f4440c83661e6e109cd5cc",
       "version_major": 2,
       "version_minor": 0
      },
      "text/plain": [
       "  0%|          | 0/26701 [00:00<?, ?it/s]"
      ]
     },
     "metadata": {},
     "output_type": "display_data"
    },
    {
     "name": "stdout",
     "output_type": "stream",
     "text": [
      "\n",
      " Epoch 15 complete in 59.68, train loss = 0.1727530584608675, valid_loss = 0.19236819068287533\n",
      "\n",
      " Start of epoch 16/20\n"
     ]
    },
    {
     "data": {
      "application/vnd.jupyter.widget-view+json": {
       "model_id": "88638f6ecf664eca8b174ca3e4aa6b5a",
       "version_major": 2,
       "version_minor": 0
      },
      "text/plain": [
       "  0%|          | 0/11655 [00:00<?, ?it/s]"
      ]
     },
     "metadata": {},
     "output_type": "display_data"
    },
    {
     "data": {
      "application/vnd.jupyter.widget-view+json": {
       "model_id": "4d274d82d97248e594e7870146f3c7dc",
       "version_major": 2,
       "version_minor": 0
      },
      "text/plain": [
       "  0%|          | 0/26701 [00:00<?, ?it/s]"
      ]
     },
     "metadata": {},
     "output_type": "display_data"
    },
    {
     "name": "stdout",
     "output_type": "stream",
     "text": [
      "\n",
      " Epoch 16 complete in 60.58, train loss = 0.17191014246897654, valid_loss = 0.19162269384478806\n",
      "\n",
      " Start of epoch 17/20\n"
     ]
    },
    {
     "data": {
      "application/vnd.jupyter.widget-view+json": {
       "model_id": "b005a2104e7c466c8950922cf0a51fb7",
       "version_major": 2,
       "version_minor": 0
      },
      "text/plain": [
       "  0%|          | 0/11655 [00:00<?, ?it/s]"
      ]
     },
     "metadata": {},
     "output_type": "display_data"
    },
    {
     "data": {
      "application/vnd.jupyter.widget-view+json": {
       "model_id": "955e432c205f4f8799b0a00c89833689",
       "version_major": 2,
       "version_minor": 0
      },
      "text/plain": [
       "  0%|          | 0/26701 [00:00<?, ?it/s]"
      ]
     },
     "metadata": {},
     "output_type": "display_data"
    },
    {
     "name": "stdout",
     "output_type": "stream",
     "text": [
      "\n",
      " Epoch 17 complete in 60.27, train loss = 0.1709666102261617, valid_loss = 0.1904129502312404\n",
      "\n",
      " Start of epoch 18/20\n"
     ]
    },
    {
     "data": {
      "application/vnd.jupyter.widget-view+json": {
       "model_id": "1a11da1eb4e547308428fcf84e20a34e",
       "version_major": 2,
       "version_minor": 0
      },
      "text/plain": [
       "  0%|          | 0/11655 [00:00<?, ?it/s]"
      ]
     },
     "metadata": {},
     "output_type": "display_data"
    },
    {
     "data": {
      "application/vnd.jupyter.widget-view+json": {
       "model_id": "346f4565cdb641d5bc025ae711bfbf33",
       "version_major": 2,
       "version_minor": 0
      },
      "text/plain": [
       "  0%|          | 0/26701 [00:00<?, ?it/s]"
      ]
     },
     "metadata": {},
     "output_type": "display_data"
    },
    {
     "name": "stdout",
     "output_type": "stream",
     "text": [
      "\n",
      " Epoch 18 complete in 60.50, train loss = 0.16952868899348875, valid_loss = 0.1930600793367479\n",
      "\n",
      " Start of epoch 19/20\n"
     ]
    },
    {
     "data": {
      "application/vnd.jupyter.widget-view+json": {
       "model_id": "aff8dbf50fbc46e4a1962697149548c9",
       "version_major": 2,
       "version_minor": 0
      },
      "text/plain": [
       "  0%|          | 0/11655 [00:00<?, ?it/s]"
      ]
     },
     "metadata": {},
     "output_type": "display_data"
    },
    {
     "data": {
      "application/vnd.jupyter.widget-view+json": {
       "model_id": "a1e5a36f3c43455d9085bd086e382c5f",
       "version_major": 2,
       "version_minor": 0
      },
      "text/plain": [
       "  0%|          | 0/26701 [00:00<?, ?it/s]"
      ]
     },
     "metadata": {},
     "output_type": "display_data"
    },
    {
     "name": "stdout",
     "output_type": "stream",
     "text": [
      "\n",
      " Epoch 19 complete in 60.21, train loss = 0.16872324020642163, valid_loss = 0.18733094913358245\n",
      "\n",
      " Start of epoch 20/20\n"
     ]
    },
    {
     "data": {
      "application/vnd.jupyter.widget-view+json": {
       "model_id": "862cd32371fb426cbf38c22b843e242d",
       "version_major": 2,
       "version_minor": 0
      },
      "text/plain": [
       "  0%|          | 0/11655 [00:00<?, ?it/s]"
      ]
     },
     "metadata": {},
     "output_type": "display_data"
    },
    {
     "data": {
      "application/vnd.jupyter.widget-view+json": {
       "model_id": "e4f145deabfd40a9821a074d27387e2d",
       "version_major": 2,
       "version_minor": 0
      },
      "text/plain": [
       "  0%|          | 0/26701 [00:00<?, ?it/s]"
      ]
     },
     "metadata": {},
     "output_type": "display_data"
    },
    {
     "name": "stdout",
     "output_type": "stream",
     "text": [
      "\n",
      " Epoch 20 complete in 60.57, train loss = 0.16792287958992852, valid_loss = 0.18585041650319062\n"
     ]
    }
   ],
   "source": [
    "def calculate_valid_loss_autoenc(model, valid_dataset, loss_fn):\n",
    "    dataloader = torch.utils.data.DataLoader(valid_dataset, 1, shuffle=False)\n",
    "    loss_list = []\n",
    "\n",
    "    for x, _ in tqdm(dataloader):\n",
    "        x = x.to(DEVICE)\n",
    "        logits = model(x)\n",
    "        loss = loss_fn(logits, x)\n",
    "        loss_val = loss.item()\n",
    "        loss_list.append(loss_val)\n",
    "\n",
    "    return np.mean(loss_list)\n",
    "\n",
    "\n",
    "def train_autoenc_model(model, optimizer, train_dataset, valid_dataset):\n",
    "    model.train()\n",
    "    loss_fn = torch.nn.MSELoss()\n",
    "\n",
    "    for epoch in range(AUTOENC_EPOCHS):\n",
    "        print(\"\\n Start of epoch {}/{}\".format(epoch + 1, AUTOENC_EPOCHS))\n",
    "        epoch_start_time = time.time()\n",
    "\n",
    "        loss_list = []\n",
    "        dataloader = torch.utils.data.DataLoader(train_dataset, BATCH_SIZE, shuffle=True)\n",
    "\n",
    "        for x_orig, _ in tqdm(dataloader):\n",
    "            x_orig_gpu = x_orig.cpu().to(DEVICE)\n",
    "            x_noisy = get_noised_data(x_orig)\n",
    "            x_noisy = x_noisy.to(DEVICE)\n",
    "\n",
    "            logits = model(x_noisy)\n",
    "            loss = loss_fn(logits, x_orig_gpu)\n",
    "            loss_val = loss.item()\n",
    "            loss_list.append(loss_val)\n",
    "\n",
    "            optimizer.zero_grad()\n",
    "            loss.backward()\n",
    "            optimizer.step()\n",
    "\n",
    "        train_loss = np.mean(loss_list)\n",
    "        valid_loss = calculate_valid_loss_autoenc(model, valid_dataset, loss_fn)\n",
    "\n",
    "        epoch_time = time.time() - epoch_start_time\n",
    "        print(\n",
    "            \"\\n Epoch {} complete in {:.2f}, train loss = {}, valid_loss = {}\".format(epoch + 1, epoch_time, train_loss,\n",
    "                                                                                      valid_loss))\n",
    "\n",
    "\n",
    "train_autoenc_model(autoenc_model, autoenc_optim, train_dataset, valid_dataset)"
   ]
  },
  {
   "cell_type": "code",
   "execution_count": 6,
   "metadata": {},
   "outputs": [],
   "source": [
    "classifier_model = Classifier()\n",
    "classifier_model = classifier_model.cuda()\n",
    "classifier_optim = torch.optim.Adam(classifier_model.parameters(), lr=LEARNING_RATE_CLASSIFIER)"
   ]
  },
  {
   "cell_type": "code",
   "execution_count": 7,
   "metadata": {},
   "outputs": [
    {
     "name": "stdout",
     "output_type": "stream",
     "text": [
      "\n",
      " Start of epoch 1/25\n"
     ]
    },
    {
     "data": {
      "application/vnd.jupyter.widget-view+json": {
       "model_id": "a179d28f0a294761b5261ad7d1acd796",
       "version_major": 2,
       "version_minor": 0
      },
      "text/plain": [
       "  0%|          | 0/11655 [00:00<?, ?it/s]"
      ]
     },
     "metadata": {},
     "output_type": "display_data"
    },
    {
     "data": {
      "application/vnd.jupyter.widget-view+json": {
       "model_id": "47cfd091d457407490663a8e9faf55fb",
       "version_major": 2,
       "version_minor": 0
      },
      "text/plain": [
       "  0%|          | 0/26701 [00:00<?, ?it/s]"
      ]
     },
     "metadata": {},
     "output_type": "display_data"
    },
    {
     "name": "stdout",
     "output_type": "stream",
     "text": [
      "\n",
      " Epoch 1 complete in 63.14, train loss = 0.20845383417607632, valid_loss = 0.12625187396227966\n",
      "\n",
      " Start of epoch 2/25\n"
     ]
    },
    {
     "data": {
      "application/vnd.jupyter.widget-view+json": {
       "model_id": "286f2a2d2a324260a06a55fcb689d335",
       "version_major": 2,
       "version_minor": 0
      },
      "text/plain": [
       "  0%|          | 0/11655 [00:00<?, ?it/s]"
      ]
     },
     "metadata": {},
     "output_type": "display_data"
    },
    {
     "data": {
      "application/vnd.jupyter.widget-view+json": {
       "model_id": "21b30177e80c4ab1a77202511ca21254",
       "version_major": 2,
       "version_minor": 0
      },
      "text/plain": [
       "  0%|          | 0/26701 [00:00<?, ?it/s]"
      ]
     },
     "metadata": {},
     "output_type": "display_data"
    },
    {
     "name": "stdout",
     "output_type": "stream",
     "text": [
      "\n",
      " Epoch 2 complete in 62.79, train loss = 0.14405850605576426, valid_loss = 0.10728320379600989\n",
      "\n",
      " Start of epoch 3/25\n"
     ]
    },
    {
     "data": {
      "application/vnd.jupyter.widget-view+json": {
       "model_id": "f41a9deb21804ed18364815bce28c3f2",
       "version_major": 2,
       "version_minor": 0
      },
      "text/plain": [
       "  0%|          | 0/11655 [00:00<?, ?it/s]"
      ]
     },
     "metadata": {},
     "output_type": "display_data"
    },
    {
     "data": {
      "application/vnd.jupyter.widget-view+json": {
       "model_id": "35767807e0c3431180873fb0fd197270",
       "version_major": 2,
       "version_minor": 0
      },
      "text/plain": [
       "  0%|          | 0/26701 [00:00<?, ?it/s]"
      ]
     },
     "metadata": {},
     "output_type": "display_data"
    },
    {
     "name": "stdout",
     "output_type": "stream",
     "text": [
      "\n",
      " Epoch 3 complete in 63.18, train loss = 0.12969357884077076, valid_loss = 0.11257626201582739\n",
      "\n",
      " Start of epoch 4/25\n"
     ]
    },
    {
     "data": {
      "application/vnd.jupyter.widget-view+json": {
       "model_id": "b7372b93cc364ee99bfe3430d601e823",
       "version_major": 2,
       "version_minor": 0
      },
      "text/plain": [
       "  0%|          | 0/11655 [00:00<?, ?it/s]"
      ]
     },
     "metadata": {},
     "output_type": "display_data"
    },
    {
     "data": {
      "application/vnd.jupyter.widget-view+json": {
       "model_id": "a115a2ca000e463ba411a5f335f1b1c5",
       "version_major": 2,
       "version_minor": 0
      },
      "text/plain": [
       "  0%|          | 0/26701 [00:00<?, ?it/s]"
      ]
     },
     "metadata": {},
     "output_type": "display_data"
    },
    {
     "name": "stdout",
     "output_type": "stream",
     "text": [
      "\n",
      " Epoch 4 complete in 63.29, train loss = 0.12091646724688597, valid_loss = 0.10945523221715188\n",
      "\n",
      " Start of epoch 5/25\n"
     ]
    },
    {
     "data": {
      "application/vnd.jupyter.widget-view+json": {
       "model_id": "3342846bd15241eaa23daff3984a6a8c",
       "version_major": 2,
       "version_minor": 0
      },
      "text/plain": [
       "  0%|          | 0/11655 [00:00<?, ?it/s]"
      ]
     },
     "metadata": {},
     "output_type": "display_data"
    },
    {
     "data": {
      "application/vnd.jupyter.widget-view+json": {
       "model_id": "dbaf4f5bf0224df4bb89b160a65d3d00",
       "version_major": 2,
       "version_minor": 0
      },
      "text/plain": [
       "  0%|          | 0/26701 [00:00<?, ?it/s]"
      ]
     },
     "metadata": {},
     "output_type": "display_data"
    },
    {
     "name": "stdout",
     "output_type": "stream",
     "text": [
      "\n",
      " Epoch 5 complete in 63.26, train loss = 0.11294259583199551, valid_loss = 0.09936697888937486\n",
      "\n",
      " Start of epoch 6/25\n"
     ]
    },
    {
     "data": {
      "application/vnd.jupyter.widget-view+json": {
       "model_id": "11f0b95436ab445e9362586280910457",
       "version_major": 2,
       "version_minor": 0
      },
      "text/plain": [
       "  0%|          | 0/11655 [00:00<?, ?it/s]"
      ]
     },
     "metadata": {},
     "output_type": "display_data"
    },
    {
     "data": {
      "application/vnd.jupyter.widget-view+json": {
       "model_id": "1d11723a41604d91b69b1f8b61f389f2",
       "version_major": 2,
       "version_minor": 0
      },
      "text/plain": [
       "  0%|          | 0/26701 [00:00<?, ?it/s]"
      ]
     },
     "metadata": {},
     "output_type": "display_data"
    },
    {
     "name": "stdout",
     "output_type": "stream",
     "text": [
      "\n",
      " Epoch 6 complete in 62.70, train loss = 0.10441024219137802, valid_loss = 0.0956648403904479\n",
      "\n",
      " Start of epoch 7/25\n"
     ]
    },
    {
     "data": {
      "application/vnd.jupyter.widget-view+json": {
       "model_id": "f2d83d9d687748b79f70d95458d98bba",
       "version_major": 2,
       "version_minor": 0
      },
      "text/plain": [
       "  0%|          | 0/11655 [00:00<?, ?it/s]"
      ]
     },
     "metadata": {},
     "output_type": "display_data"
    },
    {
     "data": {
      "application/vnd.jupyter.widget-view+json": {
       "model_id": "43de872687c64cdebcf609613fcc07c1",
       "version_major": 2,
       "version_minor": 0
      },
      "text/plain": [
       "  0%|          | 0/26701 [00:00<?, ?it/s]"
      ]
     },
     "metadata": {},
     "output_type": "display_data"
    },
    {
     "name": "stdout",
     "output_type": "stream",
     "text": [
      "\n",
      " Epoch 7 complete in 63.14, train loss = 0.09633204626871959, valid_loss = 0.09858152457775643\n",
      "\n",
      " Start of epoch 8/25\n"
     ]
    },
    {
     "data": {
      "application/vnd.jupyter.widget-view+json": {
       "model_id": "5effe1a65f63402d8f2c04ab392c89f1",
       "version_major": 2,
       "version_minor": 0
      },
      "text/plain": [
       "  0%|          | 0/11655 [00:00<?, ?it/s]"
      ]
     },
     "metadata": {},
     "output_type": "display_data"
    },
    {
     "data": {
      "application/vnd.jupyter.widget-view+json": {
       "model_id": "4f3f15212d8944d095e9bed034f4b9cd",
       "version_major": 2,
       "version_minor": 0
      },
      "text/plain": [
       "  0%|          | 0/26701 [00:00<?, ?it/s]"
      ]
     },
     "metadata": {},
     "output_type": "display_data"
    },
    {
     "name": "stdout",
     "output_type": "stream",
     "text": [
      "\n",
      " Epoch 8 complete in 63.29, train loss = 0.08856765683181024, valid_loss = 0.09238899106834482\n",
      "\n",
      " Start of epoch 9/25\n"
     ]
    },
    {
     "data": {
      "application/vnd.jupyter.widget-view+json": {
       "model_id": "ad763136063a4e61beaf37380fad7ba1",
       "version_major": 2,
       "version_minor": 0
      },
      "text/plain": [
       "  0%|          | 0/11655 [00:00<?, ?it/s]"
      ]
     },
     "metadata": {},
     "output_type": "display_data"
    },
    {
     "data": {
      "application/vnd.jupyter.widget-view+json": {
       "model_id": "9836726ae2a94a45a542d68842043f4c",
       "version_major": 2,
       "version_minor": 0
      },
      "text/plain": [
       "  0%|          | 0/26701 [00:00<?, ?it/s]"
      ]
     },
     "metadata": {},
     "output_type": "display_data"
    },
    {
     "name": "stdout",
     "output_type": "stream",
     "text": [
      "\n",
      " Epoch 9 complete in 63.04, train loss = 0.08179002478238313, valid_loss = 0.08778953249969189\n",
      "\n",
      " Start of epoch 10/25\n"
     ]
    },
    {
     "data": {
      "application/vnd.jupyter.widget-view+json": {
       "model_id": "4c85d30ba202460689c656dad42b53b7",
       "version_major": 2,
       "version_minor": 0
      },
      "text/plain": [
       "  0%|          | 0/11655 [00:00<?, ?it/s]"
      ]
     },
     "metadata": {},
     "output_type": "display_data"
    },
    {
     "data": {
      "application/vnd.jupyter.widget-view+json": {
       "model_id": "36f0deb725b7428f853cea3774470445",
       "version_major": 2,
       "version_minor": 0
      },
      "text/plain": [
       "  0%|          | 0/26701 [00:00<?, ?it/s]"
      ]
     },
     "metadata": {},
     "output_type": "display_data"
    },
    {
     "name": "stdout",
     "output_type": "stream",
     "text": [
      "\n",
      " Epoch 10 complete in 62.86, train loss = 0.0764746375701377, valid_loss = 0.07892589919597054\n",
      "\n",
      " Start of epoch 11/25\n"
     ]
    },
    {
     "data": {
      "application/vnd.jupyter.widget-view+json": {
       "model_id": "3a65c8d10f1a4d98acf3e91c30c5fc28",
       "version_major": 2,
       "version_minor": 0
      },
      "text/plain": [
       "  0%|          | 0/11655 [00:00<?, ?it/s]"
      ]
     },
     "metadata": {},
     "output_type": "display_data"
    },
    {
     "data": {
      "application/vnd.jupyter.widget-view+json": {
       "model_id": "e408cf7147d54a0fb6a438eaaeec7672",
       "version_major": 2,
       "version_minor": 0
      },
      "text/plain": [
       "  0%|          | 0/26701 [00:00<?, ?it/s]"
      ]
     },
     "metadata": {},
     "output_type": "display_data"
    },
    {
     "name": "stdout",
     "output_type": "stream",
     "text": [
      "\n",
      " Epoch 11 complete in 62.64, train loss = 0.07244459808957318, valid_loss = 0.08230784407999828\n",
      "\n",
      " Start of epoch 12/25\n"
     ]
    },
    {
     "data": {
      "application/vnd.jupyter.widget-view+json": {
       "model_id": "b70af3588ece4ceea60c9c2d4b44c800",
       "version_major": 2,
       "version_minor": 0
      },
      "text/plain": [
       "  0%|          | 0/11655 [00:00<?, ?it/s]"
      ]
     },
     "metadata": {},
     "output_type": "display_data"
    },
    {
     "data": {
      "application/vnd.jupyter.widget-view+json": {
       "model_id": "67ef7583ddd44987a7cdb6ce06d0e7b2",
       "version_major": 2,
       "version_minor": 0
      },
      "text/plain": [
       "  0%|          | 0/26701 [00:00<?, ?it/s]"
      ]
     },
     "metadata": {},
     "output_type": "display_data"
    },
    {
     "name": "stdout",
     "output_type": "stream",
     "text": [
      "\n",
      " Epoch 12 complete in 62.82, train loss = 0.06912426506182624, valid_loss = 0.08256283040877258\n",
      "\n",
      " Start of epoch 13/25\n"
     ]
    },
    {
     "data": {
      "application/vnd.jupyter.widget-view+json": {
       "model_id": "3888c84bb86a40628f7ffe693cb477ae",
       "version_major": 2,
       "version_minor": 0
      },
      "text/plain": [
       "  0%|          | 0/11655 [00:00<?, ?it/s]"
      ]
     },
     "metadata": {},
     "output_type": "display_data"
    },
    {
     "data": {
      "application/vnd.jupyter.widget-view+json": {
       "model_id": "825b74a67eaf4b428d39d848dd2b94a8",
       "version_major": 2,
       "version_minor": 0
      },
      "text/plain": [
       "  0%|          | 0/26701 [00:00<?, ?it/s]"
      ]
     },
     "metadata": {},
     "output_type": "display_data"
    },
    {
     "name": "stdout",
     "output_type": "stream",
     "text": [
      "\n",
      " Epoch 13 complete in 63.18, train loss = 0.06655585283193984, valid_loss = 0.08583933449955115\n",
      "\n",
      " Start of epoch 14/25\n"
     ]
    },
    {
     "data": {
      "application/vnd.jupyter.widget-view+json": {
       "model_id": "d3992cac601646d7be845861bde0dfef",
       "version_major": 2,
       "version_minor": 0
      },
      "text/plain": [
       "  0%|          | 0/11655 [00:00<?, ?it/s]"
      ]
     },
     "metadata": {},
     "output_type": "display_data"
    },
    {
     "data": {
      "application/vnd.jupyter.widget-view+json": {
       "model_id": "c27b496b58cb4cd8b745fb9571ff80ed",
       "version_major": 2,
       "version_minor": 0
      },
      "text/plain": [
       "  0%|          | 0/26701 [00:00<?, ?it/s]"
      ]
     },
     "metadata": {},
     "output_type": "display_data"
    },
    {
     "name": "stdout",
     "output_type": "stream",
     "text": [
      "\n",
      " Epoch 14 complete in 62.84, train loss = 0.06437218811357039, valid_loss = 0.07498902253685555\n",
      "\n",
      " Start of epoch 15/25\n"
     ]
    },
    {
     "data": {
      "application/vnd.jupyter.widget-view+json": {
       "model_id": "87af621df5784651aa17204b5c438681",
       "version_major": 2,
       "version_minor": 0
      },
      "text/plain": [
       "  0%|          | 0/11655 [00:00<?, ?it/s]"
      ]
     },
     "metadata": {},
     "output_type": "display_data"
    },
    {
     "data": {
      "application/vnd.jupyter.widget-view+json": {
       "model_id": "65c65086e5a245b795b3b495e632be85",
       "version_major": 2,
       "version_minor": 0
      },
      "text/plain": [
       "  0%|          | 0/26701 [00:00<?, ?it/s]"
      ]
     },
     "metadata": {},
     "output_type": "display_data"
    },
    {
     "name": "stdout",
     "output_type": "stream",
     "text": [
      "\n",
      " Epoch 15 complete in 63.43, train loss = 0.06241176080171481, valid_loss = 0.0762250896445968\n",
      "\n",
      " Start of epoch 16/25\n"
     ]
    },
    {
     "data": {
      "application/vnd.jupyter.widget-view+json": {
       "model_id": "150f4192cd1a4ee6a0979be4d164491a",
       "version_major": 2,
       "version_minor": 0
      },
      "text/plain": [
       "  0%|          | 0/11655 [00:00<?, ?it/s]"
      ]
     },
     "metadata": {},
     "output_type": "display_data"
    },
    {
     "data": {
      "application/vnd.jupyter.widget-view+json": {
       "model_id": "6ee9574e4f934dd4b81332c9dc865060",
       "version_major": 2,
       "version_minor": 0
      },
      "text/plain": [
       "  0%|          | 0/26701 [00:00<?, ?it/s]"
      ]
     },
     "metadata": {},
     "output_type": "display_data"
    },
    {
     "name": "stdout",
     "output_type": "stream",
     "text": [
      "\n",
      " Epoch 16 complete in 63.19, train loss = 0.06058851009622987, valid_loss = 0.07662778569109033\n",
      "\n",
      " Start of epoch 17/25\n"
     ]
    },
    {
     "data": {
      "application/vnd.jupyter.widget-view+json": {
       "model_id": "76bc7b0d5a1f4272aa572080638c5fd0",
       "version_major": 2,
       "version_minor": 0
      },
      "text/plain": [
       "  0%|          | 0/11655 [00:00<?, ?it/s]"
      ]
     },
     "metadata": {},
     "output_type": "display_data"
    },
    {
     "data": {
      "application/vnd.jupyter.widget-view+json": {
       "model_id": "281804c728d54b3abbaba85612a68ef8",
       "version_major": 2,
       "version_minor": 0
      },
      "text/plain": [
       "  0%|          | 0/26701 [00:00<?, ?it/s]"
      ]
     },
     "metadata": {},
     "output_type": "display_data"
    },
    {
     "name": "stdout",
     "output_type": "stream",
     "text": [
      "\n",
      " Epoch 17 complete in 63.20, train loss = 0.05895999054806673, valid_loss = 0.07651016210708339\n",
      "\n",
      " Start of epoch 18/25\n"
     ]
    },
    {
     "data": {
      "application/vnd.jupyter.widget-view+json": {
       "model_id": "9b6237bf478d46c68a6ae0b2bf10ff64",
       "version_major": 2,
       "version_minor": 0
      },
      "text/plain": [
       "  0%|          | 0/11655 [00:00<?, ?it/s]"
      ]
     },
     "metadata": {},
     "output_type": "display_data"
    },
    {
     "data": {
      "application/vnd.jupyter.widget-view+json": {
       "model_id": "3ae0096915724cb596502638b1dd94b5",
       "version_major": 2,
       "version_minor": 0
      },
      "text/plain": [
       "  0%|          | 0/26701 [00:00<?, ?it/s]"
      ]
     },
     "metadata": {},
     "output_type": "display_data"
    },
    {
     "name": "stdout",
     "output_type": "stream",
     "text": [
      "\n",
      " Epoch 18 complete in 63.16, train loss = 0.05765349567625696, valid_loss = 0.07091241220307537\n",
      "\n",
      " Start of epoch 19/25\n"
     ]
    },
    {
     "data": {
      "application/vnd.jupyter.widget-view+json": {
       "model_id": "180e1a4458d24d088780449868578b94",
       "version_major": 2,
       "version_minor": 0
      },
      "text/plain": [
       "  0%|          | 0/11655 [00:00<?, ?it/s]"
      ]
     },
     "metadata": {},
     "output_type": "display_data"
    },
    {
     "data": {
      "application/vnd.jupyter.widget-view+json": {
       "model_id": "955977c3f20544928cc1546d450ccfee",
       "version_major": 2,
       "version_minor": 0
      },
      "text/plain": [
       "  0%|          | 0/26701 [00:00<?, ?it/s]"
      ]
     },
     "metadata": {},
     "output_type": "display_data"
    },
    {
     "name": "stdout",
     "output_type": "stream",
     "text": [
      "\n",
      " Epoch 19 complete in 63.13, train loss = 0.05644481265640241, valid_loss = 0.07365672396576116\n",
      "\n",
      " Start of epoch 20/25\n"
     ]
    },
    {
     "data": {
      "application/vnd.jupyter.widget-view+json": {
       "model_id": "aa5ef87623c44521a2e395ed451624eb",
       "version_major": 2,
       "version_minor": 0
      },
      "text/plain": [
       "  0%|          | 0/11655 [00:00<?, ?it/s]"
      ]
     },
     "metadata": {},
     "output_type": "display_data"
    },
    {
     "data": {
      "application/vnd.jupyter.widget-view+json": {
       "model_id": "134289a3f6ae4120adf01bf5130a38d9",
       "version_major": 2,
       "version_minor": 0
      },
      "text/plain": [
       "  0%|          | 0/26701 [00:00<?, ?it/s]"
      ]
     },
     "metadata": {},
     "output_type": "display_data"
    },
    {
     "name": "stdout",
     "output_type": "stream",
     "text": [
      "\n",
      " Epoch 20 complete in 62.89, train loss = 0.05533316114440874, valid_loss = 0.0685530654776854\n",
      "\n",
      " Start of epoch 21/25\n"
     ]
    },
    {
     "data": {
      "application/vnd.jupyter.widget-view+json": {
       "model_id": "376cfd09fd7d41c6a97281b5c658d51d",
       "version_major": 2,
       "version_minor": 0
      },
      "text/plain": [
       "  0%|          | 0/11655 [00:00<?, ?it/s]"
      ]
     },
     "metadata": {},
     "output_type": "display_data"
    },
    {
     "data": {
      "application/vnd.jupyter.widget-view+json": {
       "model_id": "844cf72c1e064f9ba2087c47d1a8945c",
       "version_major": 2,
       "version_minor": 0
      },
      "text/plain": [
       "  0%|          | 0/26701 [00:00<?, ?it/s]"
      ]
     },
     "metadata": {},
     "output_type": "display_data"
    },
    {
     "name": "stdout",
     "output_type": "stream",
     "text": [
      "\n",
      " Epoch 21 complete in 62.98, train loss = 0.05449193940264804, valid_loss = 0.0690571961630937\n",
      "\n",
      " Start of epoch 22/25\n"
     ]
    },
    {
     "data": {
      "application/vnd.jupyter.widget-view+json": {
       "model_id": "363af9c177484d7e91e4589035d59212",
       "version_major": 2,
       "version_minor": 0
      },
      "text/plain": [
       "  0%|          | 0/11655 [00:00<?, ?it/s]"
      ]
     },
     "metadata": {},
     "output_type": "display_data"
    },
    {
     "data": {
      "application/vnd.jupyter.widget-view+json": {
       "model_id": "b15d02cfa5c04035b0b737096b601a28",
       "version_major": 2,
       "version_minor": 0
      },
      "text/plain": [
       "  0%|          | 0/26701 [00:00<?, ?it/s]"
      ]
     },
     "metadata": {},
     "output_type": "display_data"
    },
    {
     "name": "stdout",
     "output_type": "stream",
     "text": [
      "\n",
      " Epoch 22 complete in 62.98, train loss = 0.053678594842116775, valid_loss = 0.06694165089609248\n",
      "\n",
      " Start of epoch 23/25\n"
     ]
    },
    {
     "data": {
      "application/vnd.jupyter.widget-view+json": {
       "model_id": "51f8850f4f484a6f8a1ffccb11bdbf17",
       "version_major": 2,
       "version_minor": 0
      },
      "text/plain": [
       "  0%|          | 0/11655 [00:00<?, ?it/s]"
      ]
     },
     "metadata": {},
     "output_type": "display_data"
    },
    {
     "data": {
      "application/vnd.jupyter.widget-view+json": {
       "model_id": "f33921e7b8c34e7296afe12c75649205",
       "version_major": 2,
       "version_minor": 0
      },
      "text/plain": [
       "  0%|          | 0/26701 [00:00<?, ?it/s]"
      ]
     },
     "metadata": {},
     "output_type": "display_data"
    },
    {
     "name": "stdout",
     "output_type": "stream",
     "text": [
      "\n",
      " Epoch 23 complete in 62.96, train loss = 0.0529403340655564, valid_loss = 0.06368456986683639\n",
      "\n",
      " Start of epoch 24/25\n"
     ]
    },
    {
     "data": {
      "application/vnd.jupyter.widget-view+json": {
       "model_id": "0dd35d7b9e7843f8b685a2b4a87cc40d",
       "version_major": 2,
       "version_minor": 0
      },
      "text/plain": [
       "  0%|          | 0/11655 [00:00<?, ?it/s]"
      ]
     },
     "metadata": {},
     "output_type": "display_data"
    },
    {
     "data": {
      "application/vnd.jupyter.widget-view+json": {
       "model_id": "4a403eb82a5f454ebb2c035b1d4aea4b",
       "version_major": 2,
       "version_minor": 0
      },
      "text/plain": [
       "  0%|          | 0/26701 [00:00<?, ?it/s]"
      ]
     },
     "metadata": {},
     "output_type": "display_data"
    },
    {
     "name": "stdout",
     "output_type": "stream",
     "text": [
      "\n",
      " Epoch 24 complete in 63.35, train loss = 0.052339152005616306, valid_loss = 0.06307050945060894\n",
      "\n",
      " Start of epoch 25/25\n"
     ]
    },
    {
     "data": {
      "application/vnd.jupyter.widget-view+json": {
       "model_id": "120bce9edd544a0a90c07b6ce5589eb1",
       "version_major": 2,
       "version_minor": 0
      },
      "text/plain": [
       "  0%|          | 0/11655 [00:00<?, ?it/s]"
      ]
     },
     "metadata": {},
     "output_type": "display_data"
    },
    {
     "data": {
      "application/vnd.jupyter.widget-view+json": {
       "model_id": "ea7f6926530641b7822596e285cdc1a5",
       "version_major": 2,
       "version_minor": 0
      },
      "text/plain": [
       "  0%|          | 0/26701 [00:00<?, ?it/s]"
      ]
     },
     "metadata": {},
     "output_type": "display_data"
    },
    {
     "name": "stdout",
     "output_type": "stream",
     "text": [
      "\n",
      " Epoch 25 complete in 63.04, train loss = 0.05173344231122039, valid_loss = 0.07230952305022821\n"
     ]
    }
   ],
   "source": [
    "def pass_through_autoenc_classifier(x, y, autoenc, classifier, loss_fn, passthrough_fnc):\n",
    "    autoenc_out = passthrough_fnc(x)\n",
    "    logits = classifier(autoenc_out)\n",
    "    loss = loss_fn(logits, y)\n",
    "    loss_val = loss.item()\n",
    "    \n",
    "    return loss, loss_val\n",
    "\n",
    "\n",
    "def calculate_valid_loss_classifier(autoenc, model, valid_dataset, loss_fn, passthrough_fnc):\n",
    "\n",
    "    dataloader = torch.utils.data.DataLoader(valid_dataset, 1, shuffle=False)\n",
    "    loss_list = []\n",
    "\n",
    "    for x, y in tqdm(dataloader):\n",
    "        x = x.to(DEVICE)\n",
    "        y = y.type(torch.LongTensor).to(DEVICE)\n",
    "\n",
    "        _, loss_val = pass_through_autoenc_classifier(x ,y, autoenc, model, loss_fn, passthrough_fnc)\n",
    "        loss_list.append(loss_val)\n",
    "\n",
    "    return np.mean(loss_list)\n",
    "\n",
    "\n",
    "def train_classifier_model(autoenc_model, model, optimizer, train_dataset, valid_dataset, passthrough_fnc):\n",
    "    model.train()\n",
    "\n",
    "    loss_fn = torch.nn.CrossEntropyLoss()\n",
    "\n",
    "    for epoch in range(CLASSIFIER_EPOCHS):\n",
    "        print(\"\\n Start of epoch {}/{}\".format(epoch + 1, CLASSIFIER_EPOCHS))\n",
    "        epoch_start_time = time.time()\n",
    "\n",
    "        loss_list = []\n",
    "        dataloader = torch.utils.data.DataLoader(train_dataset, BATCH_SIZE, shuffle=True)\n",
    "\n",
    "        for x, y in tqdm(dataloader):\n",
    "            x = x.to(DEVICE)\n",
    "            y = y.type(torch.LongTensor).to(DEVICE)\n",
    "\n",
    "            loss, loss_val = pass_through_autoenc_classifier(x, y, autoenc_model, model, loss_fn, passthrough_fnc)\n",
    "            loss_list.append(loss_val)\n",
    "\n",
    "            optimizer.zero_grad()\n",
    "            loss.backward()\n",
    "            optimizer.step()\n",
    "\n",
    "        train_loss = np.mean(loss_list)\n",
    "        valid_loss = calculate_valid_loss_classifier(autoenc_model, model, valid_dataset, loss_fn, passthrough_fnc)\n",
    "\n",
    "        epoch_time = time.time() - epoch_start_time\n",
    "        print(\n",
    "            \"\\n Epoch {} complete in {:.2f}, train loss = {}, valid_loss = {}\".format(epoch + 1, epoch_time, train_loss,\n",
    "                                                                                      valid_loss))\n",
    "\n",
    "\n",
    "train_classifier_model(autoenc_model, classifier_model, classifier_optim, train_dataset, valid_dataset, autoenc_model.forward)"
   ]
  },
  {
   "cell_type": "code",
   "execution_count": 15,
   "metadata": {},
   "outputs": [
    {
     "data": {
      "application/vnd.jupyter.widget-view+json": {
       "model_id": "b61933b3a7cc45278fc7ebf8a4fd1551",
       "version_major": 2,
       "version_minor": 0
      },
      "text/plain": [
       "  0%|          | 0/71202 [00:00<?, ?it/s]"
      ]
     },
     "metadata": {},
     "output_type": "display_data"
    },
    {
     "data": {
      "text/plain": [
       "{'non-fraud': {'precision': 0.9997688462538646,\n",
       "  'recall': 0.9736749539206169,\n",
       "  'f1-score': 0.986549386632072,\n",
       "  'support': 71073},\n",
       " 'fraud': {'precision': 0.05695564516129032,\n",
       "  'recall': 0.875968992248062,\n",
       "  'f1-score': 0.10695693327023188,\n",
       "  'support': 129},\n",
       " 'accuracy': 0.9734979354512514,\n",
       " 'macro avg': {'precision': 0.5283622457075775,\n",
       "  'recall': 0.9248219730843394,\n",
       "  'f1-score': 0.5467531599511519,\n",
       "  'support': 71202},\n",
       " 'weighted avg': {'precision': 0.9980607073962351,\n",
       "  'recall': 0.9734979354512514,\n",
       "  'f1-score': 0.9849557877656965,\n",
       "  'support': 71202}}"
      ]
     },
     "execution_count": 15,
     "metadata": {},
     "output_type": "execute_result"
    }
   ],
   "source": [
    "def evaluate_predictions(auto_enc, model, dataset, passthrough_fnc):\n",
    "    dataloader = torch.utils.data.DataLoader(dataset, 1, shuffle=False)\n",
    "\n",
    "    predictions = []\n",
    "    ground_truth = []\n",
    "    for x, y in tqdm(dataloader):\n",
    "        x = x.to(DEVICE)\n",
    "        ground_truth.append(y.item())\n",
    "\n",
    "        autoenc_out = passthrough_fnc(x)\n",
    "        logits = model(autoenc_out)\n",
    "        predictions.append(np.argmax(logits.detach().cpu().numpy()))\n",
    "        \n",
    "    return classification_report(ground_truth, predictions, target_names=['non-fraud', 'fraud'], digits=3,\n",
    "                                 output_dict=True)\n",
    "\n",
    "evaluate_predictions(autoenc_model, classifier_model, test_dataset, autoenc_model.forward)"
   ]
  },
  {
   "cell_type": "code",
   "execution_count": null,
   "metadata": {},
   "outputs": [],
   "source": [
    "hidden_classifier = HiddenReprClassifier()\n",
    "hiddenClassifier_optim = torch.optim.Adam(hidden_classifier.parameters(), lr=LEARNING_RATE_CLASSIFIER)"
   ]
  },
  {
   "cell_type": "code",
   "execution_count": null,
   "metadata": {},
   "outputs": [],
   "source": [
    "train_classifier_model(autoenc_model, hidden_classifier, hiddenClassifier_optim, train_dataset, valid_dataset, autoenc_model.get_enc)"
   ]
  },
  {
   "cell_type": "code",
   "execution_count": null,
   "metadata": {},
   "outputs": [],
   "source": [
    "evaluate_predictions(autoenc_model, hidden_classifier, test_dataset, autoenc_model.get_enc)"
   ]
  },
  {
   "cell_type": "code",
   "execution_count": 50,
   "metadata": {},
   "outputs": [
    {
     "data": {
      "text/plain": [
       "{'non-fraud': {'precision': 0.9994373646158607,\n",
       "  'recall': 0.9997608025777039,\n",
       "  'f1-score': 0.9995990574332643,\n",
       "  'support': 71071},\n",
       " 'fraud': {'precision': 0.8425925925925926,\n",
       "  'recall': 0.6946564885496184,\n",
       "  'f1-score': 0.7615062761506277,\n",
       "  'support': 131},\n",
       " 'accuracy': 0.9991994606893064,\n",
       " 'macro avg': {'precision': 0.9210149786042267,\n",
       "  'recall': 0.8472086455636612,\n",
       "  'f1-score': 0.880552666791946,\n",
       "  'support': 71202},\n",
       " 'weighted avg': {'precision': 0.9991487959642071,\n",
       "  'recall': 0.9991994606893064,\n",
       "  'f1-score': 0.999161005772524,\n",
       "  'support': 71202}}"
      ]
     },
     "execution_count": 50,
     "metadata": {},
     "output_type": "execute_result"
    }
   ],
   "source": [
    "from sklearn.ensemble import RandomForestClassifier\n",
    "import pandas as pd\n",
    "\n",
    "train_df = pd.read_parquet(DATA_PATH + 'train.parquet')\n",
    "valid_df = pd.read_parquet(DATA_PATH + 'valid.parquet')\n",
    "test_df = pd.read_parquet(DATA_PATH + 'test.parquet')\n",
    "\n",
    "\n",
    "def get_x_y(df):\n",
    "    y = df['Class'].astype(np.float32)\n",
    "    X = df.drop('Class', axis=1).astype(np.float32)\n",
    "\n",
    "    return X,y\n",
    "\n",
    "train_X, train_y = get_x_y(train_df)\n",
    "\n",
    "valid_X, valid_y = get_x_y(valid_df)\n",
    "test_X, test_y = get_x_y(test_df)\n",
    "\n",
    "X = pd.concat([train_X, valid_X])\n",
    "y = pd.concat([train_y, valid_y])\n",
    "\n",
    "X = autoenc_model(torch.tensor(X.to_numpy()).cuda()).cpu().detach().numpy()\n",
    "\n",
    "\n",
    "rf = RandomForestClassifier(n_estimators=100, max_depth=2,random_state=42)\n",
    "rf.fit(X,y)\n",
    "predictions = rf.predict(test_X)\n",
    "classification_report(test_y, predictions, target_names=['non-fraud', 'fraud'], digits=3,\n",
    "                                 output_dict=True)"
   ]
  },
  {
   "cell_type": "code",
   "execution_count": null,
   "metadata": {},
   "outputs": [],
   "source": []
  }
 ],
 "metadata": {
  "kernelspec": {
   "display_name": "Python 3",
   "language": "python",
   "name": "python3"
  },
  "language_info": {
   "codemirror_mode": {
    "name": "ipython",
    "version": 3
   },
   "file_extension": ".py",
   "mimetype": "text/x-python",
   "name": "python",
   "nbconvert_exporter": "python",
   "pygments_lexer": "ipython3",
   "version": "3.8.8"
  }
 },
 "nbformat": 4,
 "nbformat_minor": 1
}
