{
 "cells": [
  {
   "cell_type": "code",
   "execution_count": 1,
   "metadata": {
    "collapsed": true
   },
   "outputs": [],
   "source": [
    "import cudf\n",
    "import cuml\n",
    "\n",
    "DATA_PATH = './data/creditcard.csv'"
   ]
  },
  {
   "cell_type": "code",
   "execution_count": 2,
   "outputs": [
    {
     "data": {
      "text/plain": "   Time        V1        V2        V3        V4        V5        V6        V7  \\\n0   0.0 -1.359807 -0.072781  2.536347  1.378155 -0.338321  0.462388  0.239599   \n1   0.0  1.191857  0.266151  0.166480  0.448154  0.060018 -0.082361 -0.078803   \n2   1.0 -1.358354 -1.340163  1.773209  0.379780 -0.503198  1.800499  0.791461   \n3   1.0 -0.966272 -0.185226  1.792993 -0.863291 -0.010309  1.247203  0.237609   \n4   2.0 -1.158233  0.877737  1.548718  0.403034 -0.407193  0.095921  0.592941   \n\n         V8        V9  ...       V21       V22       V23       V24       V25  \\\n0  0.098698  0.363787  ... -0.018307  0.277838 -0.110474  0.066928  0.128539   \n1  0.085102 -0.255425  ... -0.225775 -0.638672  0.101288 -0.339846  0.167170   \n2  0.247676 -1.514654  ...  0.247998  0.771679  0.909412 -0.689281 -0.327642   \n3  0.377436 -1.387024  ... -0.108300  0.005274 -0.190321 -1.175575  0.647376   \n4 -0.270533  0.817739  ... -0.009431  0.798278 -0.137458  0.141267 -0.206010   \n\n        V26       V27       V28  Amount  Class  \n0 -0.189115  0.133558 -0.021053  149.62      0  \n1  0.125895 -0.008983  0.014724    2.69      0  \n2 -0.139097 -0.055353 -0.059752  378.66      0  \n3 -0.221929  0.062723  0.061458  123.50      0  \n4  0.502292  0.219422  0.215153   69.99      0  \n\n[5 rows x 31 columns]",
      "text/html": "<div>\n<style scoped>\n    .dataframe tbody tr th:only-of-type {\n        vertical-align: middle;\n    }\n\n    .dataframe tbody tr th {\n        vertical-align: top;\n    }\n\n    .dataframe thead th {\n        text-align: right;\n    }\n</style>\n<table border=\"1\" class=\"dataframe\">\n  <thead>\n    <tr style=\"text-align: right;\">\n      <th></th>\n      <th>Time</th>\n      <th>V1</th>\n      <th>V2</th>\n      <th>V3</th>\n      <th>V4</th>\n      <th>V5</th>\n      <th>V6</th>\n      <th>V7</th>\n      <th>V8</th>\n      <th>V9</th>\n      <th>...</th>\n      <th>V21</th>\n      <th>V22</th>\n      <th>V23</th>\n      <th>V24</th>\n      <th>V25</th>\n      <th>V26</th>\n      <th>V27</th>\n      <th>V28</th>\n      <th>Amount</th>\n      <th>Class</th>\n    </tr>\n  </thead>\n  <tbody>\n    <tr>\n      <th>0</th>\n      <td>0.0</td>\n      <td>-1.359807</td>\n      <td>-0.072781</td>\n      <td>2.536347</td>\n      <td>1.378155</td>\n      <td>-0.338321</td>\n      <td>0.462388</td>\n      <td>0.239599</td>\n      <td>0.098698</td>\n      <td>0.363787</td>\n      <td>...</td>\n      <td>-0.018307</td>\n      <td>0.277838</td>\n      <td>-0.110474</td>\n      <td>0.066928</td>\n      <td>0.128539</td>\n      <td>-0.189115</td>\n      <td>0.133558</td>\n      <td>-0.021053</td>\n      <td>149.62</td>\n      <td>0</td>\n    </tr>\n    <tr>\n      <th>1</th>\n      <td>0.0</td>\n      <td>1.191857</td>\n      <td>0.266151</td>\n      <td>0.166480</td>\n      <td>0.448154</td>\n      <td>0.060018</td>\n      <td>-0.082361</td>\n      <td>-0.078803</td>\n      <td>0.085102</td>\n      <td>-0.255425</td>\n      <td>...</td>\n      <td>-0.225775</td>\n      <td>-0.638672</td>\n      <td>0.101288</td>\n      <td>-0.339846</td>\n      <td>0.167170</td>\n      <td>0.125895</td>\n      <td>-0.008983</td>\n      <td>0.014724</td>\n      <td>2.69</td>\n      <td>0</td>\n    </tr>\n    <tr>\n      <th>2</th>\n      <td>1.0</td>\n      <td>-1.358354</td>\n      <td>-1.340163</td>\n      <td>1.773209</td>\n      <td>0.379780</td>\n      <td>-0.503198</td>\n      <td>1.800499</td>\n      <td>0.791461</td>\n      <td>0.247676</td>\n      <td>-1.514654</td>\n      <td>...</td>\n      <td>0.247998</td>\n      <td>0.771679</td>\n      <td>0.909412</td>\n      <td>-0.689281</td>\n      <td>-0.327642</td>\n      <td>-0.139097</td>\n      <td>-0.055353</td>\n      <td>-0.059752</td>\n      <td>378.66</td>\n      <td>0</td>\n    </tr>\n    <tr>\n      <th>3</th>\n      <td>1.0</td>\n      <td>-0.966272</td>\n      <td>-0.185226</td>\n      <td>1.792993</td>\n      <td>-0.863291</td>\n      <td>-0.010309</td>\n      <td>1.247203</td>\n      <td>0.237609</td>\n      <td>0.377436</td>\n      <td>-1.387024</td>\n      <td>...</td>\n      <td>-0.108300</td>\n      <td>0.005274</td>\n      <td>-0.190321</td>\n      <td>-1.175575</td>\n      <td>0.647376</td>\n      <td>-0.221929</td>\n      <td>0.062723</td>\n      <td>0.061458</td>\n      <td>123.50</td>\n      <td>0</td>\n    </tr>\n    <tr>\n      <th>4</th>\n      <td>2.0</td>\n      <td>-1.158233</td>\n      <td>0.877737</td>\n      <td>1.548718</td>\n      <td>0.403034</td>\n      <td>-0.407193</td>\n      <td>0.095921</td>\n      <td>0.592941</td>\n      <td>-0.270533</td>\n      <td>0.817739</td>\n      <td>...</td>\n      <td>-0.009431</td>\n      <td>0.798278</td>\n      <td>-0.137458</td>\n      <td>0.141267</td>\n      <td>-0.206010</td>\n      <td>0.502292</td>\n      <td>0.219422</td>\n      <td>0.215153</td>\n      <td>69.99</td>\n      <td>0</td>\n    </tr>\n  </tbody>\n</table>\n<p>5 rows × 31 columns</p>\n</div>"
     },
     "execution_count": 2,
     "metadata": {},
     "output_type": "execute_result"
    }
   ],
   "source": [
    "df = cudf.read_csv(DATA_PATH)\n",
    "df.head()"
   ],
   "metadata": {
    "collapsed": false,
    "pycharm": {
     "name": "#%%\n"
    }
   }
  },
  {
   "cell_type": "code",
   "execution_count": 3,
   "outputs": [
    {
     "data": {
      "text/plain": "                Time             V1             V2             V3  \\\ncount  284807.000000  284807.000000  284807.000000  284807.000000   \nmean    94813.859575       0.000000       0.000000      -0.000000   \nstd     47488.145955       1.958696       1.651309       1.516255   \nmin         0.000000     -56.407510     -72.715728     -48.325589   \n25%     54201.500000      -0.920373      -0.598550      -0.890365   \n50%     84692.000000       0.018109       0.065486       0.179846   \n75%    139320.500000       1.315642       0.803724       1.027196   \nmax    172792.000000       2.454930      22.057729       9.382558   \n\n                  V4             V5             V6             V7  \\\ncount  284807.000000  284807.000000  284807.000000  284807.000000   \nmean        0.000000       0.000000       0.000000      -0.000000   \nstd         1.415869       1.380247       1.332271       1.237094   \nmin        -5.683171    -113.743307     -26.160506     -43.557242   \n25%        -0.848640      -0.691597      -0.768296      -0.554076   \n50%        -0.019847      -0.054336      -0.274187       0.040103   \n75%         0.743341       0.611926       0.398565       0.570436   \nmax        16.875344      34.801666      73.301626     120.589494   \n\n                  V8             V9  ...            V20            V21  \\\ncount  284807.000000  284807.000000  ...  284807.000000  284807.000000   \nmean        0.000000      -0.000000  ...       0.000000       0.000000   \nstd         1.194353       1.098632  ...       0.770925       0.734524   \nmin       -73.216718     -13.434066  ...     -54.497720     -34.830382   \n25%        -0.208630      -0.643098  ...      -0.211721      -0.228395   \n50%         0.022358      -0.051429  ...      -0.062481      -0.029450   \n75%         0.327346       0.597139  ...       0.133041       0.186377   \nmax        20.007208      15.594995  ...      39.420904      27.202839   \n\n                 V22            V23            V24            V25  \\\ncount  284807.000000  284807.000000  284807.000000  284807.000000   \nmean       -0.000000       0.000000       0.000000       0.000000   \nstd         0.725702       0.624460       0.605647       0.521278   \nmin       -10.933144     -44.807735      -2.836627     -10.295397   \n25%        -0.542350      -0.161846      -0.354586      -0.317145   \n50%         0.006782      -0.011193       0.040976       0.016594   \n75%         0.528554       0.147642       0.439527       0.350716   \nmax        10.503090      22.528412       4.584549       7.519589   \n\n                 V26            V27            V28         Amount  \ncount  284807.000000  284807.000000  284807.000000  284807.000000  \nmean        0.000000      -0.000000      -0.000000      88.349619  \nstd         0.482227       0.403632       0.330083     250.120109  \nmin        -2.604551     -22.565679     -15.430084       0.000000  \n25%        -0.326984      -0.070840      -0.052960       5.600000  \n50%        -0.052139       0.001342       0.011244      22.000000  \n75%         0.240952       0.091045       0.078280      77.165000  \nmax         3.517346      31.612198      33.847808   25691.160000  \n\n[8 rows x 30 columns]",
      "text/html": "<div>\n<style scoped>\n    .dataframe tbody tr th:only-of-type {\n        vertical-align: middle;\n    }\n\n    .dataframe tbody tr th {\n        vertical-align: top;\n    }\n\n    .dataframe thead th {\n        text-align: right;\n    }\n</style>\n<table border=\"1\" class=\"dataframe\">\n  <thead>\n    <tr style=\"text-align: right;\">\n      <th></th>\n      <th>Time</th>\n      <th>V1</th>\n      <th>V2</th>\n      <th>V3</th>\n      <th>V4</th>\n      <th>V5</th>\n      <th>V6</th>\n      <th>V7</th>\n      <th>V8</th>\n      <th>V9</th>\n      <th>...</th>\n      <th>V20</th>\n      <th>V21</th>\n      <th>V22</th>\n      <th>V23</th>\n      <th>V24</th>\n      <th>V25</th>\n      <th>V26</th>\n      <th>V27</th>\n      <th>V28</th>\n      <th>Amount</th>\n    </tr>\n  </thead>\n  <tbody>\n    <tr>\n      <th>count</th>\n      <td>284807.000000</td>\n      <td>284807.000000</td>\n      <td>284807.000000</td>\n      <td>284807.000000</td>\n      <td>284807.000000</td>\n      <td>284807.000000</td>\n      <td>284807.000000</td>\n      <td>284807.000000</td>\n      <td>284807.000000</td>\n      <td>284807.000000</td>\n      <td>...</td>\n      <td>284807.000000</td>\n      <td>284807.000000</td>\n      <td>284807.000000</td>\n      <td>284807.000000</td>\n      <td>284807.000000</td>\n      <td>284807.000000</td>\n      <td>284807.000000</td>\n      <td>284807.000000</td>\n      <td>284807.000000</td>\n      <td>284807.000000</td>\n    </tr>\n    <tr>\n      <th>mean</th>\n      <td>94813.859575</td>\n      <td>0.000000</td>\n      <td>0.000000</td>\n      <td>-0.000000</td>\n      <td>0.000000</td>\n      <td>0.000000</td>\n      <td>0.000000</td>\n      <td>-0.000000</td>\n      <td>0.000000</td>\n      <td>-0.000000</td>\n      <td>...</td>\n      <td>0.000000</td>\n      <td>0.000000</td>\n      <td>-0.000000</td>\n      <td>0.000000</td>\n      <td>0.000000</td>\n      <td>0.000000</td>\n      <td>0.000000</td>\n      <td>-0.000000</td>\n      <td>-0.000000</td>\n      <td>88.349619</td>\n    </tr>\n    <tr>\n      <th>std</th>\n      <td>47488.145955</td>\n      <td>1.958696</td>\n      <td>1.651309</td>\n      <td>1.516255</td>\n      <td>1.415869</td>\n      <td>1.380247</td>\n      <td>1.332271</td>\n      <td>1.237094</td>\n      <td>1.194353</td>\n      <td>1.098632</td>\n      <td>...</td>\n      <td>0.770925</td>\n      <td>0.734524</td>\n      <td>0.725702</td>\n      <td>0.624460</td>\n      <td>0.605647</td>\n      <td>0.521278</td>\n      <td>0.482227</td>\n      <td>0.403632</td>\n      <td>0.330083</td>\n      <td>250.120109</td>\n    </tr>\n    <tr>\n      <th>min</th>\n      <td>0.000000</td>\n      <td>-56.407510</td>\n      <td>-72.715728</td>\n      <td>-48.325589</td>\n      <td>-5.683171</td>\n      <td>-113.743307</td>\n      <td>-26.160506</td>\n      <td>-43.557242</td>\n      <td>-73.216718</td>\n      <td>-13.434066</td>\n      <td>...</td>\n      <td>-54.497720</td>\n      <td>-34.830382</td>\n      <td>-10.933144</td>\n      <td>-44.807735</td>\n      <td>-2.836627</td>\n      <td>-10.295397</td>\n      <td>-2.604551</td>\n      <td>-22.565679</td>\n      <td>-15.430084</td>\n      <td>0.000000</td>\n    </tr>\n    <tr>\n      <th>25%</th>\n      <td>54201.500000</td>\n      <td>-0.920373</td>\n      <td>-0.598550</td>\n      <td>-0.890365</td>\n      <td>-0.848640</td>\n      <td>-0.691597</td>\n      <td>-0.768296</td>\n      <td>-0.554076</td>\n      <td>-0.208630</td>\n      <td>-0.643098</td>\n      <td>...</td>\n      <td>-0.211721</td>\n      <td>-0.228395</td>\n      <td>-0.542350</td>\n      <td>-0.161846</td>\n      <td>-0.354586</td>\n      <td>-0.317145</td>\n      <td>-0.326984</td>\n      <td>-0.070840</td>\n      <td>-0.052960</td>\n      <td>5.600000</td>\n    </tr>\n    <tr>\n      <th>50%</th>\n      <td>84692.000000</td>\n      <td>0.018109</td>\n      <td>0.065486</td>\n      <td>0.179846</td>\n      <td>-0.019847</td>\n      <td>-0.054336</td>\n      <td>-0.274187</td>\n      <td>0.040103</td>\n      <td>0.022358</td>\n      <td>-0.051429</td>\n      <td>...</td>\n      <td>-0.062481</td>\n      <td>-0.029450</td>\n      <td>0.006782</td>\n      <td>-0.011193</td>\n      <td>0.040976</td>\n      <td>0.016594</td>\n      <td>-0.052139</td>\n      <td>0.001342</td>\n      <td>0.011244</td>\n      <td>22.000000</td>\n    </tr>\n    <tr>\n      <th>75%</th>\n      <td>139320.500000</td>\n      <td>1.315642</td>\n      <td>0.803724</td>\n      <td>1.027196</td>\n      <td>0.743341</td>\n      <td>0.611926</td>\n      <td>0.398565</td>\n      <td>0.570436</td>\n      <td>0.327346</td>\n      <td>0.597139</td>\n      <td>...</td>\n      <td>0.133041</td>\n      <td>0.186377</td>\n      <td>0.528554</td>\n      <td>0.147642</td>\n      <td>0.439527</td>\n      <td>0.350716</td>\n      <td>0.240952</td>\n      <td>0.091045</td>\n      <td>0.078280</td>\n      <td>77.165000</td>\n    </tr>\n    <tr>\n      <th>max</th>\n      <td>172792.000000</td>\n      <td>2.454930</td>\n      <td>22.057729</td>\n      <td>9.382558</td>\n      <td>16.875344</td>\n      <td>34.801666</td>\n      <td>73.301626</td>\n      <td>120.589494</td>\n      <td>20.007208</td>\n      <td>15.594995</td>\n      <td>...</td>\n      <td>39.420904</td>\n      <td>27.202839</td>\n      <td>10.503090</td>\n      <td>22.528412</td>\n      <td>4.584549</td>\n      <td>7.519589</td>\n      <td>3.517346</td>\n      <td>31.612198</td>\n      <td>33.847808</td>\n      <td>25691.160000</td>\n    </tr>\n  </tbody>\n</table>\n<p>8 rows × 30 columns</p>\n</div>"
     },
     "execution_count": 3,
     "metadata": {},
     "output_type": "execute_result"
    }
   ],
   "source": [
    "df.describe()\n"
   ],
   "metadata": {
    "collapsed": false,
    "pycharm": {
     "name": "#%%\n"
    }
   }
  },
  {
   "cell_type": "code",
   "execution_count": 9,
   "outputs": [
    {
     "name": "stdout",
     "output_type": "stream",
     "text": [
      "Count of null values: 0\n"
     ]
    }
   ],
   "source": [
    "null_values = df.isnull().sum().sum()\n",
    "print(\"Count of null values:\", null_values)"
   ],
   "metadata": {
    "collapsed": false,
    "pycharm": {
     "name": "#%%\n"
    }
   }
  }
 ],
 "metadata": {
  "kernelspec": {
   "display_name": "Python 3",
   "language": "python",
   "name": "python3"
  },
  "language_info": {
   "codemirror_mode": {
    "name": "ipython",
    "version": 2
   },
   "file_extension": ".py",
   "mimetype": "text/x-python",
   "name": "python",
   "nbconvert_exporter": "python",
   "pygments_lexer": "ipython2",
   "version": "2.7.6"
  }
 },
 "nbformat": 4,
 "nbformat_minor": 0
}